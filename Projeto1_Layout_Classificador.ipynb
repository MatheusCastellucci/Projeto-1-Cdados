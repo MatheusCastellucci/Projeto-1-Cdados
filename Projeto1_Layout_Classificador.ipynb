{
 "cells": [
  {
   "cell_type": "markdown",
   "metadata": {},
   "source": [
    "# Projeto 1 - Ciência dos Dados"
   ]
  },
  {
   "cell_type": "markdown",
   "metadata": {},
   "source": [
    "Nome: Mia Valentin Machado\n",
    "\n",
    "Nome: Matheus Castellucci\n",
    "\n",
    "Nome: Pedro Henrique"
   ]
  },
  {
   "cell_type": "markdown",
   "metadata": {},
   "source": [
    "Atenção: Serão permitidos grupos de três pessoas, mas com uma rubrica mais exigente. Grupos deste tamanho precisarão fazer um questionário de avaliação de trabalho em equipe"
   ]
  },
  {
   "cell_type": "markdown",
   "metadata": {},
   "source": [
    "___\n",
    "Carregando algumas bibliotecas:"
   ]
  },
  {
   "cell_type": "code",
   "execution_count": 1,
   "metadata": {},
   "outputs": [],
   "source": [
    "%matplotlib inline\n",
    "import pandas as pd\n",
    "import matplotlib.pyplot as plt\n",
    "import numpy as np\n",
    "import os\n",
    "import re\n",
    "\n",
    "import emoji"
   ]
  },
  {
   "cell_type": "code",
   "execution_count": 2,
   "metadata": {
    "scrolled": false
   },
   "outputs": [
    {
     "name": "stdout",
     "output_type": "stream",
     "text": [
      "Esperamos trabalhar no diretório\n",
      "C:\\Users\\spedr\\Desktop\\2º Semestre\\Dados\\Projeto 1\\Classificador\n"
     ]
    }
   ],
   "source": [
    "print('Esperamos trabalhar no diretório')\n",
    "print(os.getcwd())"
   ]
  },
  {
   "cell_type": "markdown",
   "metadata": {},
   "source": [
    "Carregando a base de dados com os tweets classificados como relevantes e não relevantes:"
   ]
  },
  {
   "cell_type": "code",
   "execution_count": 3,
   "metadata": {},
   "outputs": [],
   "source": [
    "PS5 = 'PS5 - Final.xlsx'"
   ]
  },
  {
   "cell_type": "code",
   "execution_count": 4,
   "metadata": {},
   "outputs": [
    {
     "data": {
      "text/html": [
       "<div>\n",
       "<style scoped>\n",
       "    .dataframe tbody tr th:only-of-type {\n",
       "        vertical-align: middle;\n",
       "    }\n",
       "\n",
       "    .dataframe tbody tr th {\n",
       "        vertical-align: top;\n",
       "    }\n",
       "\n",
       "    .dataframe thead th {\n",
       "        text-align: right;\n",
       "    }\n",
       "</style>\n",
       "<table border=\"1\" class=\"dataframe\">\n",
       "  <thead>\n",
       "    <tr style=\"text-align: right;\">\n",
       "      <th></th>\n",
       "      <th>Tweet</th>\n",
       "      <th>Classificação de Relevância</th>\n",
       "    </tr>\n",
       "  </thead>\n",
       "  <tbody>\n",
       "    <tr>\n",
       "      <th>0</th>\n",
       "      <td>um ps5 eh pra sempre https://t.co/ow1aobrsmm</td>\n",
       "      <td>2</td>\n",
       "    </tr>\n",
       "    <tr>\n",
       "      <th>1</th>\n",
       "      <td>vi uma galerinha falando: \"ain que maravilha w...</td>\n",
       "      <td>0</td>\n",
       "    </tr>\n",
       "    <tr>\n",
       "      <th>2</th>\n",
       "      <td>@jisegirl os dois, você no sofa, o ps5 no rack...</td>\n",
       "      <td>0</td>\n",
       "    </tr>\n",
       "    <tr>\n",
       "      <th>3</th>\n",
       "      <td>vender meu pulmão pra comprar um ps5 https://t...</td>\n",
       "      <td>2</td>\n",
       "    </tr>\n",
       "    <tr>\n",
       "      <th>4</th>\n",
       "      <td>@midiasonysta @playstation_br endosso o coro.....</td>\n",
       "      <td>1</td>\n",
       "    </tr>\n",
       "  </tbody>\n",
       "</table>\n",
       "</div>"
      ],
      "text/plain": [
       "                                               Tweet  \\\n",
       "0       um ps5 eh pra sempre https://t.co/ow1aobrsmm   \n",
       "1  vi uma galerinha falando: \"ain que maravilha w...   \n",
       "2  @jisegirl os dois, você no sofa, o ps5 no rack...   \n",
       "3  vender meu pulmão pra comprar um ps5 https://t...   \n",
       "4  @midiasonysta @playstation_br endosso o coro.....   \n",
       "\n",
       "   Classificação de Relevância  \n",
       "0                            2  \n",
       "1                            0  \n",
       "2                            0  \n",
       "3                            2  \n",
       "4                            1  "
      ]
     },
     "execution_count": 4,
     "metadata": {},
     "output_type": "execute_result"
    }
   ],
   "source": [
    "train = pd.read_excel(PS5)\n",
    "train.head(5)"
   ]
  },
  {
   "cell_type": "code",
   "execution_count": 5,
   "metadata": {},
   "outputs": [
    {
     "data": {
      "text/html": [
       "<div>\n",
       "<style scoped>\n",
       "    .dataframe tbody tr th:only-of-type {\n",
       "        vertical-align: middle;\n",
       "    }\n",
       "\n",
       "    .dataframe tbody tr th {\n",
       "        vertical-align: top;\n",
       "    }\n",
       "\n",
       "    .dataframe thead th {\n",
       "        text-align: right;\n",
       "    }\n",
       "</style>\n",
       "<table border=\"1\" class=\"dataframe\">\n",
       "  <thead>\n",
       "    <tr style=\"text-align: right;\">\n",
       "      <th></th>\n",
       "      <th>Tweet</th>\n",
       "      <th>Classificação de Relevância</th>\n",
       "    </tr>\n",
       "  </thead>\n",
       "  <tbody>\n",
       "    <tr>\n",
       "      <th>0</th>\n",
       "      <td>@wagnerthomazoni diria que é bom até, mais tem...</td>\n",
       "      <td>2</td>\n",
       "    </tr>\n",
       "    <tr>\n",
       "      <th>1</th>\n",
       "      <td>@d_ultra_ @esportzy @vplportugalps eu já que s...</td>\n",
       "      <td>1</td>\n",
       "    </tr>\n",
       "    <tr>\n",
       "      <th>2</th>\n",
       "      <td>@guisouzadias branco com ps5 em casa adora def...</td>\n",
       "      <td>0</td>\n",
       "    </tr>\n",
       "    <tr>\n",
       "      <th>3</th>\n",
       "      <td>@oblivionhell jogando no meu ps5</td>\n",
       "      <td>2</td>\n",
       "    </tr>\n",
       "    <tr>\n",
       "      <th>4</th>\n",
       "      <td>queria pegar um console mais barato, mas exclu...</td>\n",
       "      <td>3</td>\n",
       "    </tr>\n",
       "  </tbody>\n",
       "</table>\n",
       "</div>"
      ],
      "text/plain": [
       "                                               Tweet  \\\n",
       "0  @wagnerthomazoni diria que é bom até, mais tem...   \n",
       "1  @d_ultra_ @esportzy @vplportugalps eu já que s...   \n",
       "2  @guisouzadias branco com ps5 em casa adora def...   \n",
       "3                   @oblivionhell jogando no meu ps5   \n",
       "4  queria pegar um console mais barato, mas exclu...   \n",
       "\n",
       "   Classificação de Relevância  \n",
       "0                            2  \n",
       "1                            1  \n",
       "2                            0  \n",
       "3                            2  \n",
       "4                            3  "
      ]
     },
     "execution_count": 5,
     "metadata": {},
     "output_type": "execute_result"
    }
   ],
   "source": [
    "test = pd.read_excel(PS5, sheet_name = 'Teste')\n",
    "test.head(5)"
   ]
  },
  {
   "cell_type": "markdown",
   "metadata": {},
   "source": [
    "___\n",
    "## Classificador automático de sentimento\n"
   ]
  },
  {
   "cell_type": "markdown",
   "metadata": {},
   "source": [
    "Faça aqui uma descrição do seu produto e o que considerou como relevante ou não relevante na classificação dos tweets.\n",
    "\n",
    "O nosso produto é o PS5, console mais recente da Sony, uma empresa predominante no mercado de eletrônicos. Diante disto, consideramos como relevantes tweets com teor critico a cerca do console e suas particuliaridades, classificando então as opniões sobre seus jogos e manisfestações quanto ao desejo de possuir um PS5, como tweets irrelevantes ou neutros dependendo do teor do tweet que os um possível comprador.\n",
    "\n",
    "-**Muito irrelevante**: Consideramos assim, os tweets referentes a ofertas de PS5 em lojas, links para sites com informações do PS5S ou vídeos que falavam sobre o mesmo, além de anúncios de sorteios do console.\n",
    "\n",
    "-**Irrelevante**: Foram tweets que tinham um foco maior em otras coisas além do PS5, mas que comentavam sobre o console, fosse para ser um comparativo ou um meio de difamar alguém. Além disso, tweets falando especificamente de um jogo de PS5 sem falar nada do console, tambem foram considerados assim.\n",
    "\n",
    "-**Neutro**: Tweets em que pessoas falavam que queriam um PS5, só que comentários irrelevantes atrelados. Tambem foram considerados assim, tweets que focavam principalmente em um jogo exclusivo do PS5 e como ele foi importante para a decisão sobre o PS5\n",
    "\n",
    "-**Relevante**: Foram considerados assim, tweets que exaltavam as qualidades do PS5, seja comentando dele apenas ou das qualidades técnicas dos jogos. Ou críticas relevantes sobre algumas de suas características, sendo uma das principais, o preço do console dentro do Brasil.\n"
   ]
  },
  {
   "cell_type": "markdown",
   "metadata": {},
   "source": [
    "___\n",
    "### Montando um Classificador Naive-Bayes\n",
    "\n",
    "Considerando apenas as mensagens da planilha Treinamento, ensine  seu classificador."
   ]
  },
  {
   "cell_type": "code",
   "execution_count": 6,
   "metadata": {
    "scrolled": true
   },
   "outputs": [
    {
     "data": {
      "text/plain": [
       "' vi uma galerinha falando ain que maravilha wolverine e spiderman 2 exclusivos ps5 chupa microsoft e caixistasantes ain starfield e elder scrolls 6 não podem ser exclusivos temos que fazer uma petiçãoow sério aqui vão se foder @jisegirl os dois você no sofa o ps5 no rack e nós tirando x1 no mortal kombat 11 vídeo playstationfifa 22 official pro clubs trailer ps5 ps4link “eu ou um ps5” dá uma tristeza em saber que deathloop é jogo exclusivo do ps5quem quiser me doar o ps5 😳 @bruno_cves o ps5 vem de brinde @lord_psmg @insomniacgames microsoft não valorizou o estúdio quando pode na época pós sunset overdrive agora se fode vendo ele empurar o ps5 @la3b_ps5 vigor @junglovelyy vc tem um ps5 @vitorr117 @andre_d4rk2 @profechinho @pedroxbz quando teve o teardown do ps5 o xbox fez um tweet dizendo como virar seu xbox e postou a foto de um series x em pé e na outra deitadochamaram o ps5 de playstation vent na cara larga num tweet do among us só nao te mostro pq faz mt mt mttt tempo velho novo tri'"
      ]
     },
     "execution_count": 6,
     "metadata": {},
     "output_type": "execute_result"
    }
   ],
   "source": [
    "def limpa(tweet_sujo):#Recebe o tweet breuto e o retorna sem caracteres especiais e com espaçamentos corretos em relação aos emojis\n",
    "    \n",
    "    tweet_sem_carac = re.sub(re.compile('[!-.:?;\\n|]'), '', tweet_sujo)\n",
    "    #Retira os caracteres especiais e coloca um ' ' no lugar\n",
    "    tweet_limpo = re.sub(re.compile(r'(http\\S*\\s)'), '', tweet_sem_carac)\n",
    "    #Retira os links e coloca um ' ' no lugar\n",
    "    \n",
    "    texto_prov = ''\n",
    "    for palavra in tweet_limpo:   #Verifica cada palavra do tweet para verificar se ela é um emoji\n",
    "        if palavra in emoji.UNICODE_EMOJI:\n",
    "            texto_prov += f' {palavra} ' #Caso texto_prov seja um emoji a função o separará do texto com espaços.\n",
    "        else:\n",
    "            texto_prov += f'{palavra}'   #Caso não o texto continuará sem alteração\n",
    "    tweet_limpo = texto_prov\n",
    "    \n",
    "    tweet_limpo = re.sub(re.compile(r'\\s+'), ' ', tweet_limpo) \n",
    "    #Se existirem mais de um espaço seguidos essa linha transformará em apenas um espaço\n",
    "\n",
    "    return tweet_limpo\n",
    "\n",
    "classes =  [('mt_ir', 0), ('ir', 1), ('nt', 2), ('rl', 3)]     \n",
    "#Nomes das classificações e os números em que os tweets foram classificados\n",
    "nomes = {'mt_ir': 'Muito Irrelevante', 'ir': 'Irrelevante', 'nt': 'Neutro', 'rl': 'Relevante'}  \n",
    "#Nomes reais das Classificações\n",
    "\n",
    "tweet_classe = {}\n",
    "#Dicionário que vai separar os tweets por classificação\n",
    "for classe, num_class in classes:\n",
    "    lista_prov = train.loc[train['Classificação de Relevância'] == num_class, :]      \n",
    "    #Escolhe os tweets de uma só classificação\n",
    "    tweet_classe[classe] = ''\n",
    "    #Lista que receberá os tweets\n",
    "    for tweet in lista_prov['Tweet']:\n",
    "        tweet_classe[classe] += ' ' + tweet + ' ' \n",
    "        #adicionar os tweets de uma classificação a um item do dicionário\n",
    "    \n",
    "    tweet_classe[classe] = limpa(tweet_classe[classe].lower())\n",
    "    #Limpa os tweet\n",
    "\n",
    "tweet_classe['mt_ir'][:1000]"
   ]
  },
  {
   "cell_type": "code",
   "execution_count": 7,
   "metadata": {},
   "outputs": [
    {
     "name": "stdout",
     "output_type": "stream",
     "text": [
      "palavras na classe Muito Irrelevante: 1192 (30.6%)\n",
      "palavras na classe Irrelevante: 860 (22.1%)\n",
      "palavras na classe Neutro: 801 (20.5%)\n",
      "palavras na classe Relevante: 1047 (26.8%)\n"
     ]
    }
   ],
   "source": [
    "t = 0\n",
    "#Número palavras por classe\n",
    "for classe, n in classes:\n",
    "    t += len(pd.Series(tweet_classe[classe].split()).value_counts())\n",
    "for classe, n in classes:\n",
    "    print(f'palavras na classe {nomes[classe]}:',len(pd.Series(tweet_classe[classe].split()).value_counts()), f'({(len(pd.Series(tweet_classe[classe].split()).value_counts())/t)*100:.3g}%)')"
   ]
  },
  {
   "cell_type": "code",
   "execution_count": 8,
   "metadata": {},
   "outputs": [
    {
     "data": {
      "text/plain": [
       "ps5    0.000126\n",
       "de     0.000075\n",
       "e      0.000068\n",
       "o      0.000066\n",
       "um     0.000058\n",
       "dtype: float64"
      ]
     },
     "execution_count": 8,
     "metadata": {},
     "output_type": "execute_result"
    }
   ],
   "source": [
    "alpha = 1       #constante alpha para ser utilizada caso precisemos usar uma palavra que não consta na base de dados\n",
    "V = 10**6       #constante V para representar a quantidade de palavras póssiveis de usarmos em tweets\n",
    "\n",
    "valores = {}    #dicionário que vai conter um DataFrame para cada classe informando o peso de cada palavra na base de dados da classe\n",
    "for classe in tweet_classe: #conversão das strings para o DataFrame dos pesos\n",
    "    valores[classe] = (pd.Series(tweet_classe[classe].split()).value_counts() + alpha) / (len(tweet_classe[classe].split()) + alpha*V)\n",
    "\n",
    "valores['mt_ir'].head()"
   ]
  },
  {
   "cell_type": "code",
   "execution_count": 9,
   "metadata": {},
   "outputs": [],
   "source": [
    "def classifica(tweet):\n",
    "    '''\n",
    "    Função que usa a base de dados da variável valores para classificar tweets na forma de uma única string em positivo, negativo ou neutro.\n",
    "    '''\n",
    "    tweet_limpo = limpa(tweet)\n",
    "    frase_list = tweet_limpo.split()                        #lista com cada palavra da frase\n",
    "    resultados = []                                         #lista que vai compreender uma tupla (classe, peso do tweet na respectiva classe) para cada classe\n",
    "    for classe, n in classes:                               #uma vez para cada classe\n",
    "        value = 0                                           #variavel que copreende a combinação dos pesos de cada palavra do tweet na classe da vez\n",
    "        for palavra in frase_list:                          #uma vez para cada palavra no tweet\n",
    "            if palavra in valores[classe]:                  #se a palavra constar na base de dados...\n",
    "                value += np.log(valores[classe][palavra])   #adiciona o peso dela na variavel value\n",
    "                #print(classe, palavra, np.log(valores[classe][palavra]), '(tem)')\n",
    "            else:\n",
    "                value += np.log(alpha / (len(tweet_classe[classe].split()) + alpha*V)) #adiciona o peso de uma palavra genérica na variavel value\n",
    "                #print(classe, palavra, np.log(alpha / (len(tweet_classe[classe].split()) + alpha*V)), '(NAO tem)')\n",
    "        resultados += [(value, n)]                          #adiciona a tupla (classe, peso do tweet na respectiva classe) na lista de resultados\n",
    "    classificacao = (-10000, 0)                                  #variavel que vai compreender a tupla com o maior peso\n",
    "    for value, n in resultados:                             #uma vez par cada tupla na lista de resultados\n",
    "        if classificacao[0] < value:                        #se o peso dessa tupla for maior do que o da variavel classificação...\n",
    "            classificacao = (value, n)                      #a variavel classificação assumi o valor dessa tupla\n",
    "    \n",
    "    return classificacao[1]                                 #retorna apenas o número da classifição alcançada"
   ]
  },
  {
   "cell_type": "code",
   "execution_count": 10,
   "metadata": {},
   "outputs": [
    {
     "name": "stdout",
     "output_type": "stream",
     "text": [
      "1\n"
     ]
    }
   ],
   "source": [
    "print(classifica('felipe neto'))"
   ]
  },
  {
   "cell_type": "markdown",
   "metadata": {},
   "source": [
    "___\n",
    "### Verificando a performance do Classificador\n",
    "\n",
    "Agora você deve testar o seu classificador com a base de Testes."
   ]
  },
  {
   "cell_type": "code",
   "execution_count": 11,
   "metadata": {},
   "outputs": [
    {
     "data": {
      "text/plain": [
       "{'mt_ir': {'mt_ir': 21, 'ir': 4, 'nt': 22, 'rl': 92},\n",
       " 'ir': {'mt_ir': 21, 'ir': 6, 'nt': 14, 'rl': 78},\n",
       " 'nt': {'mt_ir': 15, 'ir': 3, 'nt': 22, 'rl': 101},\n",
       " 'rl': {'mt_ir': 10, 'ir': 2, 'nt': 16, 'rl': 73}}"
      ]
     },
     "execution_count": 11,
     "metadata": {},
     "output_type": "execute_result"
    }
   ],
   "source": [
    "perf = {} #dicionário que vai compreender os fesultados da verificação de performance\n",
    "for classe, n in classes:\n",
    "    perf[classe] = {}\n",
    "    for classe_B, n_B in classes:\n",
    "        perf[classe][classe_B] = 0\n",
    "    frame = test.loc[train['Classificação de Relevância'] == n, :] #seleciona os tweets da planilha de teste da respectiva classe\n",
    "    for tweet in frame['Tweet']:\n",
    "        perf[classe][classes[classifica(tweet)][0]] += 1\n",
    "perf"
   ]
  },
  {
   "cell_type": "code",
   "execution_count": 12,
   "metadata": {},
   "outputs": [
    {
     "data": {
      "text/plain": [
       "{'total': {'verdadeiro': 122, 'falso': 378},\n",
       " 'mt_ir': {'verdadeiro': 21, 'falso': 46},\n",
       " 'ir': {'verdadeiro': 6, 'falso': 9},\n",
       " 'nt': {'verdadeiro': 22, 'falso': 52},\n",
       " 'rl': {'verdadeiro': 73, 'falso': 271}}"
      ]
     },
     "execution_count": 12,
     "metadata": {},
     "output_type": "execute_result"
    }
   ],
   "source": [
    "perf_clean = {'total':{'verdadeiro':0, 'falso':0}} #variável perf pronta para expor os dados no print\n",
    "for classe, n in classes:\n",
    "    perf_clean[classe] = {'verdadeiro':0, 'falso':0}\n",
    "    for classe_B, n_B in classes:\n",
    "        if classe == classe_B:\n",
    "            perf_clean[classe]['verdadeiro'] += perf[classe_B][classe]\n",
    "            perf_clean['total']['verdadeiro'] += perf[classe_B][classe]\n",
    "        else:\n",
    "            perf_clean[classe]['falso'] += perf[classe_B][classe]\n",
    "            perf_clean['total']['falso'] += perf[classe_B][classe]\n",
    "\n",
    "perf_clean"
   ]
  },
  {
   "cell_type": "code",
   "execution_count": 13,
   "metadata": {},
   "outputs": [
    {
     "name": "stdout",
     "output_type": "stream",
     "text": [
      "Muito Irrelevante:\n",
      " Verdadeiros Muito Irrelevante: 21 (4.2%)\n",
      " Falsos Muito Irrelevante: 46 (9.2%)\n",
      "Irrelevante:\n",
      " Verdadeiros Irrelevante: 6 (1.2%)\n",
      " Falsos Irrelevante: 9 (1.8%)\n",
      "Neutro:\n",
      " Verdadeiros Neutro: 22 (4.4%)\n",
      " Falsos Neutro: 52 (10.4%)\n",
      "Relevante:\n",
      " Verdadeiros Relevante: 73 (14.6%)\n",
      " Falsos Relevante: 271 (54.2%)\n",
      "Total:\n",
      " Verdadeiros total: 122 (24.4%)\n",
      " Falsos total: 378 (75.6%)\n"
     ]
    }
   ],
   "source": [
    "for classe, n in classes: #print dos resultados da verificação de performance\n",
    "    print(f'{nomes[classe]}:\\n Verdadeiros ' + nomes[classe] + f': {perf_clean[classe][\"verdadeiro\"]} ({(perf_clean[classe][\"verdadeiro\"] / sum(perf_clean[\"total\"].values()))*100:.3g}%)\\n Falsos ' + nomes[classe] + f': {perf_clean[classe][\"falso\"]} ({(perf_clean[classe][\"falso\"] / sum(perf_clean[\"total\"].values()))*100:.3g}%)')\n",
    "print(f'Total:\\n Verdadeiros total: {perf_clean[\"total\"][\"verdadeiro\"]} ({(perf_clean[\"total\"][\"verdadeiro\"] / sum(perf_clean[\"total\"].values()))*100:.3g}%)\\n Falsos total: {perf_clean[\"total\"][\"falso\"]} ({(perf_clean[\"total\"][\"falso\"] / sum(perf_clean[\"total\"].values()))*100:.3g}%)')"
   ]
  },
  {
   "cell_type": "markdown",
   "metadata": {},
   "source": [
    "___\n",
    "### Concluindo"
   ]
  },
  {
   "cell_type": "markdown",
   "metadata": {},
   "source": [
    "Como podemos ver na parte anterior do notebook, nosso classificador interpretar corretamente apenas 24.4% dos tweets da planilha Teste. Uma precisão de apenas 24.4% não é muito boa. Apesar do classificador Naive Bayes poder chegar a uma eficiencia de até 92%. Acreditamos que tal descrepância entre as porcentagens vem dos fatos de diversos tweets serem dificeis de serem avaliados, muitos deles demostram algo muito superfulo, algumas vezes até fútil. O que acaba fazenddo com que eficiencia caia. Outro motivo relevante para esse diferença de valore se encontra no tamanho da base de dados que foi usado, sendo consideravelmente bem menor do que o ideal para algo desta magnitude.\n",
    "\n",
    "Após colocar o classificador para rodar, o resultado quanto a classificação de tweets \"Muito Relevante\" foi que: foram encontrados 4.2% corretamente classificados, enquanto 9.2% foram classificados erroniamente.\n",
    "Para a classificação dos tweets \"Irrelevantes\" encontramos 1.2% corretamente e 1.8% classificados.\n",
    "Já para os tweets \"Neutros\", encontramos 4.4% corretos e 10.4% incorretos, sendo aqui um começo do problema do nosso classificador, aqui encontramos uma diferença muito maior que nos outros dois.\n",
    "Quando passamos para a análise dos tweets \"Relevantes\" percebemos onda encontra-se o problema do nosso classificador, para essa classe foram encontrados apennas 14.6% classificados corretamente, por outyro lado, 54.2% foram classificados de maneira errada.\n",
    "\n",
    "Com base nessa experiência com o classificador Naive-Bayes, é possível entender o por que dele não pode ser usado para criar uma nova base de dados, sendo este motivo o de que, esse classificador iria criar uma base de dados maior do que deveria, isso porque iria criar uma parte errada. Ou seja, ele não se mostra viavel por criar uma base de dados com erros de classificação.\n",
    "\n",
    "Pensando nisso, um possível meio em que o classificador Naive-Bayes ainda poderia ser aplicado, seria numa analise de mercado para algum tipo de produto. Sendo que iria apenas analisar para quais clientes seriam mostradas propagandas dele. Ou seja, algo que não existe muito problema em se errar a classificação, nesse caso, so mostraria a propaganda para alguém sem interesse.\n",
    "\n",
    "Tendo tudo isso em vista, principalmentes a nossa experiência com o classificador. Uma possível melhoria para o classificador, seria atribuir para palvras a informação que a própria palavra atribua um valor para o todo em que esteja, assim não classificando errado as partes que têm essa palavra."
   ]
  },
  {
   "cell_type": "markdown",
   "metadata": {},
   "source": [
    "___\n",
    "### Qualidade do Classificador a partir de novas separações dos tweets entre Treinamento e Teste\n",
    "\n",
    "Caso for fazer esse item do Projeto"
   ]
  },
  {
   "cell_type": "markdown",
   "metadata": {},
   "source": [
    "O grupo não fez esta parte do projeto."
   ]
  },
  {
   "cell_type": "code",
   "execution_count": null,
   "metadata": {},
   "outputs": [],
   "source": []
  },
  {
   "cell_type": "code",
   "execution_count": null,
   "metadata": {},
   "outputs": [],
   "source": []
  },
  {
   "cell_type": "markdown",
   "metadata": {},
   "source": [
    "___\n",
    "## Aperfeiçoamento:\n",
    "\n",
    "Trabalhos que conseguirem pelo menos conceito B vão evoluir em conceito dependendo da quantidade de itens avançados:\n",
    "\n",
    "* IMPLEMENTOU outras limpezas e transformações que não afetem a qualidade da informação contida nos tweets. Ex: stemming, lemmatization, stopwords\n",
    "* CORRIGIU separação de espaços entre palavras e emojis ou entre emojis e emojis\n",
    "* CRIOU categorias intermediárias de relevância baseadas na probabilidade: ex.: muito relevante, relevante, neutro, irrelevante, muito irrelevante. Pelo menos quatro categorias, com adição de mais tweets na base, conforme enunciado. (OBRIGATÓRIO PARA TRIOS, sem contar como item avançado)\n",
    "* EXPLICOU porquê não pode usar o próprio classificador para gerar mais amostras de treinamento\n",
    "* PROPÔS diferentes cenários para Naïve Bayes fora do contexto do projeto\n",
    "* SUGERIU e EXPLICOU melhorias reais com indicações concretas de como implementar (indicar como fazer e indicar material de pesquisa)\n",
    "* FEZ o item 6. Qualidade do Classificador a partir de novas separações dos tweets entre Treinamento e Teste descrito no enunciado do projeto (OBRIGATÓRIO para conceitos A ou A+)"
   ]
  },
  {
   "cell_type": "markdown",
   "metadata": {},
   "source": [
    "___\n",
    "## Referências"
   ]
  },
  {
   "cell_type": "markdown",
   "metadata": {},
   "source": [
    "[Naive Bayes and Text Classification](https://arxiv.org/pdf/1410.5329.pdf)  **Mais completo**\n",
    "\n",
    "[A practical explanation of a Naive Bayes Classifier](https://monkeylearn.com/blog/practical-explanation-naive-bayes-classifier/) **Mais simples**"
   ]
  },
  {
   "cell_type": "code",
   "execution_count": null,
   "metadata": {},
   "outputs": [],
   "source": []
  }
 ],
 "metadata": {
  "kernelspec": {
   "display_name": "Python 3",
   "language": "python",
   "name": "python3"
  },
  "language_info": {
   "codemirror_mode": {
    "name": "ipython",
    "version": 3
   },
   "file_extension": ".py",
   "mimetype": "text/x-python",
   "name": "python",
   "nbconvert_exporter": "python",
   "pygments_lexer": "ipython3",
   "version": "3.8.5"
  }
 },
 "nbformat": 4,
 "nbformat_minor": 4
}
