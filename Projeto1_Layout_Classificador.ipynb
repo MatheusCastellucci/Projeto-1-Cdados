{
 "cells": [
  {
   "cell_type": "markdown",
   "metadata": {},
   "source": [
    "# Projeto 1 - Ciência dos Dados"
   ]
  },
  {
   "cell_type": "markdown",
   "metadata": {},
   "source": [
    "Nome: Mia Valentin Machado\n",
    "\n",
    "Nome: Matheus Castellucci\n",
    "\n",
    "Nome: Pedro Henrique"
   ]
  },
  {
   "cell_type": "markdown",
   "metadata": {},
   "source": [
    "Atenção: Serão permitidos grupos de três pessoas, mas com uma rubrica mais exigente. Grupos deste tamanho precisarão fazer um questionário de avaliação de trabalho em equipe"
   ]
  },
  {
   "cell_type": "markdown",
   "metadata": {},
   "source": [
    "___\n",
    "Carregando algumas bibliotecas:"
   ]
  },
  {
   "cell_type": "code",
   "execution_count": 2,
   "metadata": {},
   "outputs": [],
   "source": [
    "%matplotlib inline\n",
    "import pandas as pd\n",
    "import matplotlib.pyplot as plt\n",
    "import numpy as np\n",
    "import os\n",
    "import re\n",
    "#import emoji"
   ]
  },
  {
   "cell_type": "code",
   "execution_count": 3,
   "metadata": {
    "scrolled": false
   },
   "outputs": [
    {
     "name": "stdout",
     "output_type": "stream",
     "text": [
      "Esperamos trabalhar no diretório\n",
      "C:\\Users\\Matheus Castellucci\\Desktop\\Insper\\Semestre 2\\CieDados\\Projeto 1\\Projeto-1-Cdados\n"
     ]
    }
   ],
   "source": [
    "print('Esperamos trabalhar no diretório')\n",
    "print(os.getcwd())"
   ]
  },
  {
   "cell_type": "markdown",
   "metadata": {},
   "source": [
    "Carregando a base de dados com os tweets classificados como relevantes e não relevantes:"
   ]
  },
  {
   "cell_type": "code",
   "execution_count": 4,
   "metadata": {},
   "outputs": [],
   "source": [
    "PS5 = 'PS5 - Final.xlsx'"
   ]
  },
  {
   "cell_type": "code",
   "execution_count": 5,
   "metadata": {},
   "outputs": [
    {
     "data": {
      "text/html": [
       "<div>\n",
       "<style scoped>\n",
       "    .dataframe tbody tr th:only-of-type {\n",
       "        vertical-align: middle;\n",
       "    }\n",
       "\n",
       "    .dataframe tbody tr th {\n",
       "        vertical-align: top;\n",
       "    }\n",
       "\n",
       "    .dataframe thead th {\n",
       "        text-align: right;\n",
       "    }\n",
       "</style>\n",
       "<table border=\"1\" class=\"dataframe\">\n",
       "  <thead>\n",
       "    <tr style=\"text-align: right;\">\n",
       "      <th></th>\n",
       "      <th>Tweet</th>\n",
       "      <th>Classificação de Relevância</th>\n",
       "    </tr>\n",
       "  </thead>\n",
       "  <tbody>\n",
       "    <tr>\n",
       "      <th>0</th>\n",
       "      <td>um ps5 eh pra sempre https://t.co/ow1aobrsmm</td>\n",
       "      <td>2</td>\n",
       "    </tr>\n",
       "    <tr>\n",
       "      <th>1</th>\n",
       "      <td>vi uma galerinha falando: \"ain que maravilha w...</td>\n",
       "      <td>0</td>\n",
       "    </tr>\n",
       "    <tr>\n",
       "      <th>2</th>\n",
       "      <td>@jisegirl os dois, você no sofa, o ps5 no rack...</td>\n",
       "      <td>0</td>\n",
       "    </tr>\n",
       "    <tr>\n",
       "      <th>3</th>\n",
       "      <td>vender meu pulmão pra comprar um ps5 https://t...</td>\n",
       "      <td>2</td>\n",
       "    </tr>\n",
       "    <tr>\n",
       "      <th>4</th>\n",
       "      <td>@midiasonysta @playstation_br endosso o coro.....</td>\n",
       "      <td>1</td>\n",
       "    </tr>\n",
       "  </tbody>\n",
       "</table>\n",
       "</div>"
      ],
      "text/plain": [
       "                                               Tweet  \\\n",
       "0       um ps5 eh pra sempre https://t.co/ow1aobrsmm   \n",
       "1  vi uma galerinha falando: \"ain que maravilha w...   \n",
       "2  @jisegirl os dois, você no sofa, o ps5 no rack...   \n",
       "3  vender meu pulmão pra comprar um ps5 https://t...   \n",
       "4  @midiasonysta @playstation_br endosso o coro.....   \n",
       "\n",
       "   Classificação de Relevância  \n",
       "0                            2  \n",
       "1                            0  \n",
       "2                            0  \n",
       "3                            2  \n",
       "4                            1  "
      ]
     },
     "execution_count": 5,
     "metadata": {},
     "output_type": "execute_result"
    }
   ],
   "source": [
    "train = pd.read_excel(PS5)\n",
    "train.head(5)"
   ]
  },
  {
   "cell_type": "code",
   "execution_count": 6,
   "metadata": {},
   "outputs": [
    {
     "data": {
      "text/html": [
       "<div>\n",
       "<style scoped>\n",
       "    .dataframe tbody tr th:only-of-type {\n",
       "        vertical-align: middle;\n",
       "    }\n",
       "\n",
       "    .dataframe tbody tr th {\n",
       "        vertical-align: top;\n",
       "    }\n",
       "\n",
       "    .dataframe thead th {\n",
       "        text-align: right;\n",
       "    }\n",
       "</style>\n",
       "<table border=\"1\" class=\"dataframe\">\n",
       "  <thead>\n",
       "    <tr style=\"text-align: right;\">\n",
       "      <th></th>\n",
       "      <th>Tweet</th>\n",
       "      <th>Classificação de Relevância</th>\n",
       "    </tr>\n",
       "  </thead>\n",
       "  <tbody>\n",
       "    <tr>\n",
       "      <th>0</th>\n",
       "      <td>@wagnerthomazoni diria que é bom até, mais tem...</td>\n",
       "      <td>2</td>\n",
       "    </tr>\n",
       "    <tr>\n",
       "      <th>1</th>\n",
       "      <td>@d_ultra_ @esportzy @vplportugalps eu já que s...</td>\n",
       "      <td>1</td>\n",
       "    </tr>\n",
       "    <tr>\n",
       "      <th>2</th>\n",
       "      <td>@guisouzadias branco com ps5 em casa adora def...</td>\n",
       "      <td>0</td>\n",
       "    </tr>\n",
       "    <tr>\n",
       "      <th>3</th>\n",
       "      <td>@oblivionhell jogando no meu ps5</td>\n",
       "      <td>2</td>\n",
       "    </tr>\n",
       "    <tr>\n",
       "      <th>4</th>\n",
       "      <td>queria pegar um console mais barato, mas exclu...</td>\n",
       "      <td>3</td>\n",
       "    </tr>\n",
       "  </tbody>\n",
       "</table>\n",
       "</div>"
      ],
      "text/plain": [
       "                                               Tweet  \\\n",
       "0  @wagnerthomazoni diria que é bom até, mais tem...   \n",
       "1  @d_ultra_ @esportzy @vplportugalps eu já que s...   \n",
       "2  @guisouzadias branco com ps5 em casa adora def...   \n",
       "3                   @oblivionhell jogando no meu ps5   \n",
       "4  queria pegar um console mais barato, mas exclu...   \n",
       "\n",
       "   Classificação de Relevância  \n",
       "0                            2  \n",
       "1                            1  \n",
       "2                            0  \n",
       "3                            2  \n",
       "4                            3  "
      ]
     },
     "execution_count": 6,
     "metadata": {},
     "output_type": "execute_result"
    }
   ],
   "source": [
    "test = pd.read_excel(PS5, sheet_name = 'Teste')\n",
    "test.head(5)"
   ]
  },
  {
   "cell_type": "markdown",
   "metadata": {},
   "source": [
    "___\n",
    "## Classificador automático de sentimento\n"
   ]
  },
  {
   "cell_type": "markdown",
   "metadata": {},
   "source": [
    "Faça aqui uma descrição do seu produto e o que considerou como relevante ou não relevante na classificação dos tweets.\n",
    "\n",
    "O nosso produto é o PS5, um console mais recente da Sony, uma empresa predominante no mercado de eletrônicos. Diante disto, consideramos como relevantes tweets com teor critico a cerca do console e suas particuliaridades, classificando então as opniões sobre seus jogos e manisfestações sobre o desejo de possuir um PS5, como tweets irrelevantes ou neutros dependendo do teor do tweet que os um possível comprador "
   ]
  },
  {
   "cell_type": "markdown",
   "metadata": {},
   "source": [
    "___\n",
    "### Montando um Classificador Naive-Bayes\n",
    "\n",
    "Considerando apenas as mensagens da planilha Treinamento, ensine  seu classificador."
   ]
  },
  {
   "cell_type": "code",
   "execution_count": 7,
   "metadata": {},
   "outputs": [],
   "source": [
    "def limpa(tweet):\n",
    "#Função responsável por retirar os caractéres especiais (! - . : ? ; \\n) e os links\n",
    "\n",
    "    tweet_sem_carac= re.sub(re.compile('[!-.:?;\\n]'), '', tweet)\n",
    "    tweet_limpo = re.sub(re.compile(r'(http\\S*\\s)'), '', tweet_sem_carac)\n",
    "    #substitui os caracteres especiais e links por um espaço\n",
    "\n",
    "    return tweet_limpo\n",
    "\n",
    "def espacamento(tweet):\n",
    "    text_list = ''\n",
    "    #Variável para receber os tweets com o espaçamento correto\n",
    "    \n",
    "    for palavra in tweet:\n",
    "        if palavra in emoji.UNICODE_EMOJI:\n",
    "            text_list += f' {palavra} '\n",
    "        else:\n",
    "            text_list += f'{palavra}'\n",
    "    #Verifica se cada palavra do tweet é um emoji ou não, cao sim, o programa aplicará um espaçamento antes e depois dele.\n",
    "    \n",
    "    tweet_corrigido = re.sub(re.compile(r'\\s+'), ' ', text_list) \n",
    "    #Verifica se existe casos de espaçamento duplo e então transforma-o em um espaçamento simples\n",
    "    \n",
    "    return tweet_corrigido"
   ]
  },
  {
   "cell_type": "code",
   "execution_count": 8,
   "metadata": {},
   "outputs": [
    {
     "data": {
      "text/plain": [
       "' @midiasonysta @playstation_br endosso o coro blader é um dos meus criadores de conteúdo preferido no youtubesempre traz debates e opiniões pertinentes aqui no twittere é sensacional@bladerkoyotte merece demais um ps5pense nisso sonya o ps5 chegou @ataylindaa mas c viu que vai sair godofwar p ps5  @dekostrife será enorme com certeza o cory está neste projeto indica o quanto a sony aposta nele sendo só ps5 ainda o hype sobe mais ainda vendi meio ethereum pra comprar um ps5 e depois desisti da ideia recomprei mais alto o ethereum boa noite já pesquisou xbox ps5 e nft pra checar se vc não ta seguindo uma página que foi vendida/hackeada hj @nerdesports021 clubes pagam as ps5  consola foi para venda e mundo entrou em pandemia qual a vantagem de comprar uma ps5 atualmente  já há exclusivos ps5  @_cgoulxrt nosso filho vai desenhar no ps5 sim @lord_edipo @jdiasssxl @nerdboomer isso é diferente a pirataria permitia você refazer a base e colocar no cd agora no ps4 e ps5 o trabalho é gigantescono'"
      ]
     },
     "execution_count": 8,
     "metadata": {},
     "output_type": "execute_result"
    }
   ],
   "source": [
    "classes = [('mt_ir', 0), ('ir', 1), ('nt', 2), ('rl', 3)] \n",
    "#lista dos nomes e dos respectivos numeros das classificações usadas\n",
    "\n",
    "string = {}                                         \n",
    "#Dicionario que separará os tweets por classificação\n",
    "\n",
    "for classe, n in classes:\n",
    "\n",
    "    classifier = train.loc[train['Classificação de Relevância'] == n, :]      \n",
    "    #Seleciona os tweets de uma classe\n",
    "    \n",
    "    string[classe] = ''\n",
    "    #cria uma string para armazenar os tweets ´por classe\n",
    "    \n",
    "    for palavra in classifier['Tweet']:\n",
    "        string[classe] += ' ' + palavra\n",
    "    #Cria o novo tweet, agora limpo\n",
    "    \n",
    "    string[classe] = limpa(string[classe].lower()) #faz a limpeza da string\n",
    "string['ir'][:1000]"
   ]
  },
  {
   "cell_type": "code",
   "execution_count": 9,
   "metadata": {
    "scrolled": false
   },
   "outputs": [
    {
     "name": "stdout",
     "output_type": "stream",
     "text": [
      "1\n",
      "1195\n",
      "2056\n",
      "2857\n",
      "palavras na classe mt_ir: 1194 (30.6%)\n",
      "palavras na classe ir: 861 (22.1%)\n",
      "palavras na classe nt: 801 (20.5%)\n",
      "palavras na classe rl: 1047 (26.8%)\n"
     ]
    }
   ],
   "source": [
    "t = 1           #print da quantidade de palavras em cada classe na base de treino\n",
    "nomes = {'mt_ir': 'Muito Irrelevante', 'ir': 'Irrelevante', 'nt': 'Neutro', 'rl': 'Relevante'}\n",
    "for classe, n in classes:\n",
    "    print(t)\n",
    "    t += len(pd.Series(string[classe].split()).value_counts())\n",
    "    \n",
    "for classe, n in classes:\n",
    "    print(f'palavras na classe {classe}:',len(pd.Series(string[classe].split()).value_counts()), f'({(len(pd.Series(string[classe].split()).value_counts())/t)*100:.3g}%)')"
   ]
  },
  {
   "cell_type": "code",
   "execution_count": 10,
   "metadata": {},
   "outputs": [],
   "source": [
    "\n",
    "nomes = {'mt_ir': 'Muito Irrelevante', 'ir': 'Irrelevante', 'nt': 'Neutro', 'rl': 'Relevante'} \n",
    "#nomes para usar print de forma mais elegante"
   ]
  },
  {
   "cell_type": "code",
   "execution_count": 11,
   "metadata": {},
   "outputs": [],
   "source": [
    "def cassificador(tweet):\n",
    "    tweet_limpo = limpa(tweet)\n",
    "    tweet_correto = espacamento(tweet_limpo)\n",
    "    tweet_palavra = tweet_clean.split()"
   ]
  },
  {
   "cell_type": "markdown",
   "metadata": {},
   "source": [
    "___\n",
    "### Verificando a performance do Classificador\n",
    "\n",
    "Agora você deve testar o seu classificador com a base de Testes."
   ]
  },
  {
   "cell_type": "code",
   "execution_count": null,
   "metadata": {},
   "outputs": [],
   "source": []
  },
  {
   "cell_type": "code",
   "execution_count": null,
   "metadata": {},
   "outputs": [],
   "source": []
  },
  {
   "cell_type": "code",
   "execution_count": null,
   "metadata": {},
   "outputs": [],
   "source": []
  },
  {
   "cell_type": "markdown",
   "metadata": {},
   "source": [
    "___\n",
    "### Concluindo"
   ]
  },
  {
   "cell_type": "code",
   "execution_count": null,
   "metadata": {},
   "outputs": [],
   "source": []
  },
  {
   "cell_type": "code",
   "execution_count": null,
   "metadata": {},
   "outputs": [],
   "source": []
  },
  {
   "cell_type": "code",
   "execution_count": null,
   "metadata": {},
   "outputs": [],
   "source": []
  },
  {
   "cell_type": "markdown",
   "metadata": {},
   "source": [
    "___\n",
    "### Qualidade do Classificador a partir de novas separações dos tweets entre Treinamento e Teste\n",
    "\n",
    "Caso for fazer esse item do Projeto"
   ]
  },
  {
   "cell_type": "code",
   "execution_count": null,
   "metadata": {},
   "outputs": [],
   "source": []
  },
  {
   "cell_type": "code",
   "execution_count": null,
   "metadata": {},
   "outputs": [],
   "source": []
  },
  {
   "cell_type": "code",
   "execution_count": null,
   "metadata": {},
   "outputs": [],
   "source": []
  },
  {
   "cell_type": "markdown",
   "metadata": {},
   "source": [
    "___\n",
    "## Aperfeiçoamento:\n",
    "\n",
    "Trabalhos que conseguirem pelo menos conceito B vão evoluir em conceito dependendo da quantidade de itens avançados:\n",
    "\n",
    "* IMPLEMENTOU outras limpezas e transformações que não afetem a qualidade da informação contida nos tweets. Ex: stemming, lemmatization, stopwords\n",
    "* CORRIGIU separação de espaços entre palavras e emojis ou entre emojis e emojis\n",
    "* CRIOU categorias intermediárias de relevância baseadas na probabilidade: ex.: muito relevante, relevante, neutro, irrelevante, muito irrelevante. Pelo menos quatro categorias, com adição de mais tweets na base, conforme enunciado. (OBRIGATÓRIO PARA TRIOS, sem contar como item avançado)\n",
    "* EXPLICOU porquê não pode usar o próprio classificador para gerar mais amostras de treinamento\n",
    "* PROPÔS diferentes cenários para Naïve Bayes fora do contexto do projeto\n",
    "* SUGERIU e EXPLICOU melhorias reais com indicações concretas de como implementar (indicar como fazer e indicar material de pesquisa)\n",
    "* FEZ o item 6. Qualidade do Classificador a partir de novas separações dos tweets entre Treinamento e Teste descrito no enunciado do projeto (OBRIGATÓRIO para conceitos A ou A+)"
   ]
  },
  {
   "cell_type": "markdown",
   "metadata": {},
   "source": [
    "___\n",
    "## Referências"
   ]
  },
  {
   "cell_type": "markdown",
   "metadata": {},
   "source": [
    "[Naive Bayes and Text Classification](https://arxiv.org/pdf/1410.5329.pdf)  **Mais completo**\n",
    "\n",
    "[A practical explanation of a Naive Bayes Classifier](https://monkeylearn.com/blog/practical-explanation-naive-bayes-classifier/) **Mais simples**"
   ]
  },
  {
   "cell_type": "code",
   "execution_count": null,
   "metadata": {},
   "outputs": [],
   "source": []
  }
 ],
 "metadata": {
  "kernelspec": {
   "display_name": "Python 3",
   "language": "python",
   "name": "python3"
  },
  "language_info": {
   "codemirror_mode": {
    "name": "ipython",
    "version": 3
   },
   "file_extension": ".py",
   "mimetype": "text/x-python",
   "name": "python",
   "nbconvert_exporter": "python",
   "pygments_lexer": "ipython3",
   "version": "3.8.5"
  }
 },
 "nbformat": 4,
 "nbformat_minor": 4
}
